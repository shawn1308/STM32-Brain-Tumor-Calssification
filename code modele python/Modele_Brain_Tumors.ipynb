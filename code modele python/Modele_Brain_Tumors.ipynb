{
 "cells": [
  {
   "cell_type": "code",
   "execution_count": null,
   "metadata": {
    "id": "JRpNd-Ym0h-9"
   },
   "outputs": [],
   "source": [
    "from skimage import io\n",
    "import matplotlib.pyplot as plt\n",
    "import matplotlib.image as mpimg\n",
    "from keras.models import Sequential\n",
    "from keras.layers import Conv2D, MaxPooling2D, BatchNormalization\n",
    "from keras.layers import Activation, Dropout, Flatten, Dense\n",
    "import os\n",
    "import cv2\n",
    "from PIL import Image\n",
    "import numpy as np\n",
    "from sklearn.metrics import confusion_matrix\n",
    "import seaborn as sns\n",
    "from sklearn.metrics import roc_curve"
   ]
  },
  {
   "cell_type": "code",
   "execution_count": null,
   "metadata": {
    "id": "iii31t3y0wHA"
   },
   "outputs": [],
   "source": [
    "image_directory = \"/content/drive/MyDrive/data2/\""
   ]
  },
  {
   "cell_type": "code",
   "execution_count": null,
   "metadata": {
    "id": "SXhRJchq093h"
   },
   "outputs": [],
   "source": [
    "SIZE = 55\n",
    "dataset = []\n",
    "label = []\n",
    "\n",
    "normal_images = os.listdir(image_directory + 'normal/')\n",
    "for i, image_name in enumerate(normal_images) :\n",
    "  if (image_name.split('.')[1] == 'jpg') :\n",
    "    image= cv2.imread(image_directory + 'normal/' +image_name)\n",
    "    image = Image.fromarray(image,'RGB')\n",
    "    image = image.convert(\"L\")\n",
    "    image = image.resize((SIZE,SIZE))\n",
    "    dataset.append(np.array(image))\n",
    "    label.append(0)\n",
    "\n",
    "gli_images = os.listdir(image_directory + 'glioma_tumor/')\n",
    "for i, image_name in enumerate(gli_images) :\n",
    "  if (image_name.split('.')[1] == 'jpg') :\n",
    "    image= cv2.imread(image_directory + 'glioma_tumor/' +image_name)\n",
    "    image = Image.fromarray(image,'RGB')\n",
    "    image = image.convert(\"L\")\n",
    "    image = image.resize((SIZE,SIZE))\n",
    "    dataset.append(np.array(image))\n",
    "    label.append(1)\n",
    "\n",
    "men_images = os.listdir(image_directory + 'meningioma_tumor/') # le dossier qui contient images Uninfected\n",
    "for i, image_name in enumerate(men_images) :\n",
    "  if (image_name.split('.')[1] == 'jpg') :\n",
    "    image= cv2.imread(image_directory + 'meningioma_tumor/' +image_name)\n",
    "    image = Image.fromarray(image,'RGB')\n",
    "    image = image.convert(\"L\")\n",
    "    image = image.resize((SIZE,SIZE))\n",
    "    dataset.append(np.array(image))\n",
    "    label.append(2)\n",
    "\n",
    "pitu_images = os.listdir(image_directory + 'pituitary_tumor/') # le dossier qui contient images Uninfected\n",
    "for i, image_name in enumerate(pitu_images) :\n",
    "  if (image_name.split('.')[1] == 'jpg') :\n",
    "    image= cv2.imread(image_directory + 'pituitary_tumor/' +image_name)\n",
    "    image = Image.fromarray(image,'RGB')\n",
    "    image = image.convert(\"L\")\n",
    "    image = image.resize((SIZE,SIZE))\n",
    "    dataset.append(np.array(image))\n",
    "    label.append(3)"
   ]
  },
  {
   "cell_type": "code",
   "execution_count": null,
   "metadata": {
    "colab": {
     "base_uri": "https://localhost:8080/"
    },
    "id": "KvMU71el2Oqg",
    "outputId": "4d755d3e-dcdc-4a0f-8899-c520e5f9531b"
   },
   "outputs": [
    {
     "data": {
      "text/plain": [
       "(600, 55, 55)"
      ]
     },
     "execution_count": 293,
     "metadata": {},
     "output_type": "execute_result"
    }
   ],
   "source": [
    "dataset = np.array(dataset) # array to numpy array\n",
    "label = np.array(label)\n",
    "dataset.shape"
   ]
  },
  {
   "cell_type": "code",
   "execution_count": null,
   "metadata": {
    "id": "aipyj9od2SbD"
   },
   "outputs": [],
   "source": [
    "from sklearn.model_selection import train_test_split\n",
    "X_train, X_test, y_train, y_test = train_test_split(dataset, label, test_size =0.20, random_state =21)"
   ]
  },
  {
   "cell_type": "code",
   "execution_count": null,
   "metadata": {
    "id": "KZvUf0cl2iXy"
   },
   "outputs": [],
   "source": [
    "from keras.utils import normalize\n",
    "X_train = normalize(X_train, axis =1) # on normalise, pour éviter les differance d'amplitude\n",
    "X_test = normalize(X_test, axis =1)"
   ]
  },
  {
   "cell_type": "code",
   "execution_count": null,
   "metadata": {
    "colab": {
     "base_uri": "https://localhost:8080/"
    },
    "id": "_bkNJhja2ndm",
    "outputId": "0ae448df-5b95-4340-ef2d-b25d9d5abe96"
   },
   "outputs": [
    {
     "name": "stdout",
     "output_type": "stream",
     "text": [
      "Model: \"sequential_15\"\n",
      "_________________________________________________________________\n",
      " Layer (type)                Output Shape              Param #   \n",
      "=================================================================\n",
      " conv2d_31 (Conv2D)          (None, 51, 51, 6)         156       \n",
      "                                                                 \n",
      " average_pooling2d_31 (Aver  (None, 25, 25, 6)         0         \n",
      " agePooling2D)                                                   \n",
      "                                                                 \n",
      " conv2d_32 (Conv2D)          (None, 21, 21, 16)        2416      \n",
      "                                                                 \n",
      " average_pooling2d_32 (Aver  (None, 10, 10, 16)        0         \n",
      " agePooling2D)                                                   \n",
      "                                                                 \n",
      " flatten_15 (Flatten)        (None, 1600)              0         \n",
      "                                                                 \n",
      " dense_45 (Dense)            (None, 120)               192120    \n",
      "                                                                 \n",
      " dense_46 (Dense)            (None, 84)                10164     \n",
      "                                                                 \n",
      " dense_47 (Dense)            (None, 43)                3655      \n",
      "                                                                 \n",
      "=================================================================\n",
      "Total params: 208511 (814.50 KB)\n",
      "Trainable params: 208511 (814.50 KB)\n",
      "Non-trainable params: 0 (0.00 Byte)\n",
      "_________________________________________________________________\n"
     ]
    }
   ],
   "source": [
    "from tensorflow.keras import datasets, layers, models\n",
    "\n",
    "CNN = models.Sequential()\n",
    "\n",
    "CNN.add(layers.Conv2D(6, (5,5), activation = 'relu', input_shape = (55,55,1)))\n",
    "CNN.add(layers.AveragePooling2D())\n",
    "\n",
    "#CNN.add(layers.Dropout(0.2))\n",
    "\n",
    "CNN.add(layers.Conv2D(16, (5,5), activation = 'relu'))\n",
    "CNN.add(layers.AveragePooling2D())\n",
    "\n",
    "CNN.add(layers.Flatten())\n",
    "\n",
    "CNN.add(layers.Dense(120, activation = 'relu'))\n",
    "\n",
    "CNN.add(layers.Dense(84, activation = 'relu'))\n",
    "\n",
    "CNN.add(layers.Dense(43, activation = 'softmax'))\n",
    "CNN.summary()"
   ]
  },
  {
   "cell_type": "code",
   "execution_count": null,
   "metadata": {
    "id": "iUE2wmRB68LL"
   },
   "outputs": [],
   "source": [
    "CNN.compile(optimizer = 'Adam', loss = 'sparse_categorical_crossentropy', metrics = ['accuracy'])"
   ]
  },
  {
   "cell_type": "code",
   "execution_count": null,
   "metadata": {
    "colab": {
     "base_uri": "https://localhost:8080/"
    },
    "id": "ZozckKas292N",
    "outputId": "3ad2e81d-c7d3-4271-aab9-ac9372bc2892"
   },
   "outputs": [
    {
     "name": "stdout",
     "output_type": "stream",
     "text": [
      "Epoch 1/250\n",
      "Epoch 2/250\n",
      "Epoch 3/250\n",
      "Epoch 4/250\n",
      "Epoch 5/250\n",
      "Epoch 6/250\n",
      "Epoch 7/250\n",
      "Epoch 8/250\n",
      "Epoch 9/250\n",
      "Epoch 10/250\n",
      "Epoch 11/250\n",
      "Epoch 12/250\n",
      "Epoch 13/250\n",
      "Epoch 14/250\n",
      "Epoch 15/250\n",
      "Epoch 16/250\n",
      "Epoch 17/250\n",
      "Epoch 18/250\n",
      "Epoch 19/250\n",
      "Epoch 20/250\n",
      "Epoch 21/250\n",
      "Epoch 22/250\n",
      "Epoch 23/250\n",
      "Epoch 24/250\n",
      "Epoch 25/250\n",
      "Epoch 26/250\n",
      "Epoch 27/250\n",
      "Epoch 28/250\n",
      "Epoch 29/250\n",
      "Epoch 30/250\n",
      "Epoch 31/250\n",
      "Epoch 32/250\n",
      "Epoch 33/250\n",
      "Epoch 34/250\n",
      "Epoch 35/250\n",
      "Epoch 36/250\n",
      "Epoch 37/250\n",
      "Epoch 38/250\n",
      "Epoch 39/250\n",
      "Epoch 40/250\n",
      "Epoch 41/250\n",
      "Epoch 42/250\n",
      "Epoch 43/250\n",
      "Epoch 44/250\n",
      "Epoch 45/250\n",
      "Epoch 46/250\n",
      "Epoch 47/250\n",
      "Epoch 48/250\n",
      "Epoch 49/250\n",
      "Epoch 50/250\n",
      "Epoch 51/250\n",
      "Epoch 52/250\n",
      "Epoch 53/250\n",
      "Epoch 54/250\n",
      "Epoch 55/250\n",
      "Epoch 56/250\n",
      "Epoch 57/250\n",
      "Epoch 58/250\n",
      "Epoch 59/250\n",
      "Epoch 60/250\n",
      "Epoch 61/250\n",
      "Epoch 62/250\n",
      "Epoch 63/250\n",
      "Epoch 64/250\n",
      "Epoch 65/250\n",
      "Epoch 66/250\n",
      "Epoch 67/250\n",
      "Epoch 68/250\n",
      "Epoch 69/250\n",
      "Epoch 70/250\n",
      "Epoch 71/250\n",
      "Epoch 72/250\n",
      "Epoch 73/250\n",
      "Epoch 74/250\n",
      "Epoch 75/250\n",
      "Epoch 76/250\n",
      "Epoch 77/250\n",
      "Epoch 78/250\n",
      "Epoch 79/250\n",
      "Epoch 80/250\n",
      "Epoch 81/250\n",
      "Epoch 82/250\n",
      "Epoch 83/250\n",
      "Epoch 84/250\n",
      "Epoch 85/250\n",
      "Epoch 86/250\n",
      "Epoch 87/250\n",
      "Epoch 88/250\n",
      "Epoch 89/250\n",
      "Epoch 90/250\n",
      "Epoch 91/250\n",
      "Epoch 92/250\n",
      "Epoch 93/250\n",
      "Epoch 94/250\n",
      "Epoch 95/250\n",
      "Epoch 96/250\n",
      "Epoch 97/250\n",
      "Epoch 98/250\n",
      "Epoch 99/250\n",
      "Epoch 100/250\n",
      "Epoch 101/250\n",
      "Epoch 102/250\n",
      "Epoch 103/250\n",
      "Epoch 104/250\n",
      "Epoch 105/250\n",
      "Epoch 106/250\n",
      "Epoch 107/250\n",
      "Epoch 108/250\n",
      "Epoch 109/250\n",
      "Epoch 110/250\n",
      "Epoch 111/250\n",
      "Epoch 112/250\n",
      "Epoch 113/250\n",
      "Epoch 114/250\n",
      "Epoch 115/250\n",
      "Epoch 116/250\n",
      "Epoch 117/250\n",
      "Epoch 118/250\n",
      "Epoch 119/250\n",
      "Epoch 120/250\n",
      "Epoch 121/250\n",
      "Epoch 122/250\n",
      "Epoch 123/250\n",
      "Epoch 124/250\n",
      "Epoch 125/250\n",
      "Epoch 126/250\n",
      "Epoch 127/250\n",
      "Epoch 128/250\n",
      "Epoch 129/250\n",
      "Epoch 130/250\n",
      "Epoch 131/250\n",
      "Epoch 132/250\n",
      "Epoch 133/250\n",
      "Epoch 134/250\n",
      "Epoch 135/250\n",
      "Epoch 136/250\n",
      "Epoch 137/250\n",
      "Epoch 138/250\n",
      "Epoch 139/250\n",
      "Epoch 140/250\n",
      "Epoch 141/250\n",
      "Epoch 142/250\n",
      "Epoch 143/250\n",
      "Epoch 144/250\n",
      "Epoch 145/250\n",
      "Epoch 146/250\n",
      "Epoch 147/250\n",
      "Epoch 148/250\n",
      "Epoch 149/250\n",
      "Epoch 150/250\n",
      "Epoch 151/250\n",
      "Epoch 152/250\n",
      "Epoch 153/250\n",
      "Epoch 154/250\n",
      "Epoch 155/250\n",
      "Epoch 156/250\n",
      "Epoch 157/250\n",
      "Epoch 158/250\n",
      "Epoch 159/250\n",
      "Epoch 160/250\n",
      "Epoch 161/250\n",
      "Epoch 162/250\n",
      "Epoch 163/250\n",
      "Epoch 164/250\n",
      "Epoch 165/250\n",
      "Epoch 166/250\n",
      "Epoch 167/250\n",
      "Epoch 168/250\n",
      "Epoch 169/250\n",
      "Epoch 170/250\n",
      "Epoch 171/250\n",
      "Epoch 172/250\n",
      "Epoch 173/250\n",
      "Epoch 174/250\n",
      "Epoch 175/250\n",
      "Epoch 176/250\n",
      "Epoch 177/250\n",
      "Epoch 178/250\n",
      "Epoch 179/250\n",
      "Epoch 180/250\n",
      "Epoch 181/250\n",
      "Epoch 182/250\n",
      "Epoch 183/250\n",
      "Epoch 184/250\n",
      "Epoch 185/250\n",
      "Epoch 186/250\n",
      "Epoch 187/250\n",
      "Epoch 188/250\n",
      "Epoch 189/250\n",
      "Epoch 190/250\n",
      "Epoch 191/250\n",
      "Epoch 192/250\n",
      "Epoch 193/250\n",
      "Epoch 194/250\n",
      "Epoch 195/250\n",
      "Epoch 196/250\n",
      "Epoch 197/250\n",
      "Epoch 198/250\n",
      "Epoch 199/250\n",
      "Epoch 200/250\n",
      "Epoch 201/250\n",
      "Epoch 202/250\n",
      "Epoch 203/250\n",
      "Epoch 204/250\n",
      "Epoch 205/250\n",
      "Epoch 206/250\n",
      "Epoch 207/250\n",
      "Epoch 208/250\n",
      "Epoch 209/250\n",
      "Epoch 210/250\n",
      "Epoch 211/250\n",
      "Epoch 212/250\n",
      "Epoch 213/250\n",
      "Epoch 214/250\n",
      "Epoch 215/250\n",
      "Epoch 216/250\n",
      "Epoch 217/250\n",
      "Epoch 218/250\n",
      "Epoch 219/250\n",
      "Epoch 220/250\n",
      "Epoch 221/250\n",
      "Epoch 222/250\n",
      "Epoch 223/250\n",
      "Epoch 224/250\n",
      "Epoch 225/250\n",
      "Epoch 226/250\n",
      "Epoch 227/250\n",
      "Epoch 228/250\n",
      "Epoch 229/250\n",
      "Epoch 230/250\n",
      "Epoch 231/250\n",
      "Epoch 232/250\n",
      "Epoch 233/250\n",
      "Epoch 234/250\n",
      "Epoch 235/250\n",
      "Epoch 236/250\n",
      "Epoch 237/250\n",
      "Epoch 238/250\n",
      "Epoch 239/250\n",
      "Epoch 240/250\n",
      "Epoch 241/250\n",
      "Epoch 242/250\n",
      "Epoch 243/250\n",
      "Epoch 244/250\n",
      "Epoch 245/250\n",
      "Epoch 246/250\n",
      "Epoch 247/250\n",
      "Epoch 248/250\n",
      "Epoch 249/250\n",
      "Epoch 250/250\n"
     ]
    }
   ],
   "source": [
    "history = CNN.fit(X_train,\n",
    "                 y_train,\n",
    "                 batch_size = 500,\n",
    "                 epochs = 250,\n",
    "                 verbose = 3,\n",
    "                 validation_data = (X_test, y_test))"
   ]
  },
  {
   "cell_type": "code",
   "execution_count": null,
   "metadata": {
    "colab": {
     "base_uri": "https://localhost:8080/"
    },
    "id": "YDsZJck43lMJ",
    "outputId": "53916146-9a24-450a-c8e2-36def5e29a22"
   },
   "outputs": [
    {
     "name": "stdout",
     "output_type": "stream",
     "text": [
      "4/4 [==============================] - 0s 30ms/step - loss: 0.9967 - accuracy: 0.7417\n",
      "Test Accuracy: 0.7416666746139526\n"
     ]
    }
   ],
   "source": [
    "score = CNN.evaluate(X_test, y_test)\n",
    "print('Test Accuracy: {}'.format(score[1]))"
   ]
  },
  {
   "cell_type": "code",
   "execution_count": null,
   "metadata": {
    "colab": {
     "base_uri": "https://localhost:8080/"
    },
    "id": "e_jPoao79HcJ",
    "outputId": "92a2738e-6c09-4b5e-d5de-61334c9c2d31"
   },
   "outputs": [
    {
     "name": "stdout",
     "output_type": "stream",
     "text": [
      "4/4 [==============================] - 0s 4ms/step\n"
     ]
    }
   ],
   "source": [
    "y_pred = CNN.predict(X_test)\n",
    "y_predicted = np.argmax(y_pred, axis=1)"
   ]
  },
  {
   "cell_type": "code",
   "execution_count": null,
   "metadata": {
    "colab": {
     "base_uri": "https://localhost:8080/"
    },
    "id": "JnpFwWLL9cMG",
    "outputId": "0a4757f5-76c6-4550-a0f5-d2eeb31ebaa3"
   },
   "outputs": [
    {
     "data": {
      "text/plain": [
       "0.7416666666666667"
      ]
     },
     "execution_count": 301,
     "metadata": {},
     "output_type": "execute_result"
    }
   ],
   "source": [
    "from sklearn.metrics import accuracy_score, confusion_matrix, classification_report\n",
    "accuracy_score(y_test,y_predicted)"
   ]
  },
  {
   "cell_type": "code",
   "execution_count": null,
   "metadata": {
    "colab": {
     "base_uri": "https://localhost:8080/",
     "height": 452
    },
    "id": "JduHml80-ULl",
    "outputId": "997d5f4e-1d09-472a-b46d-4b5dd406d87f"
   },
   "outputs": [
    {
     "data": {
      "image/png": "[encoded data removed]",
      "text/plain": [
       "<Figure size 640x480 with 2 Axes>"
      ]
     },
     "metadata": {},
     "output_type": "display_data"
    }
   ],
   "source": [
    "cm = confusion_matrix(y_test, y_predicted)\n",
    "\n",
    "sns.heatmap(cm, annot=True,fmt=\".0f\")\n",
    "plt.title(\"Confusion Matrix\")\n",
    "plt.show()"
   ]
  },
  {
   "cell_type": "code",
   "execution_count": null,
   "metadata": {
    "id": "Bo5Eprzz-hBU"
   },
   "outputs": [],
   "source": [
    "import tensorflow as tf"
   ]
  },
  {
   "cell_type": "code",
   "execution_count": null,
   "metadata": {
    "id": "FDWXy2i9Amht"
   },
   "outputs": [],
   "source": [
    "from tensorflow.keras.models import load_model"
   ]
  },
  {
   "cell_type": "code",
   "execution_count": null,
   "metadata": {
    "colab": {
     "base_uri": "https://localhost:8080/"
    },
    "id": "VvAkdiHpCD0f",
    "outputId": "613e52f1-36f6-4335-d8ba-1c456043cecc"
   },
   "outputs": [
    {
     "name": "stderr",
     "output_type": "stream",
     "text": [
      "/usr/local/lib/python3.10/dist-packages/keras/src/engine/training.py:3103: UserWarning: You are saving your model as an HDF5 file via `model.save()`. This file format is considered legacy. We recommend using instead the native Keras format, e.g. `model.save('my_model.keras')`.\n",
      "  saving_api.save_model(\n"
     ]
    }
   ],
   "source": [
    "CNN.save(\"bt_model_55.h5\")"
   ]
  },
  {
   "cell_type": "code",
   "execution_count": null,
   "metadata": {
    "id": "5j3fIKz5pamc"
   },
   "outputs": [],
   "source": [
    "from tensorflow import keras\n",
    "loaded_model = keras.models.load_model(\"/content/bt_model_55.h5\")"
   ]
  },
  {
   "cell_type": "code",
   "execution_count": null,
   "metadata": {
    "colab": {
     "base_uri": "https://localhost:8080/"
    },
    "id": "vBLTmi-mCiDZ",
    "outputId": "cf203db4-ffd7-448a-8240-a02260b225c9"
   },
   "outputs": [
    {
     "name": "stdout",
     "output_type": "stream",
     "text": [
      "4/4 [==============================] - 0s 5ms/step - loss: 0.9967 - accuracy: 0.7417\n",
      "Test Accuracy: 0.7416666746139526\n"
     ]
    }
   ],
   "source": [
    "score = loaded_model.evaluate(X_test, y_test)\n",
    "print('Test Accuracy: {}'.format(score[1]))"
   ]
  },
  {
   "cell_type": "code",
   "execution_count": null,
   "metadata": {
    "id": "XMtTsRClCxQU"
   },
   "outputs": [],
   "source": [
    "converter = tf.lite.TFLiteConverter.from_keras_model(loaded_model)\n",
    "tflite_model = converter.convert()"
   ]
  },
  {
   "cell_type": "code",
   "execution_count": null,
   "metadata": {
    "id": "2TMW_xbPDEUL"
   },
   "outputs": [],
   "source": [
    "with open(\"bt_55_model.tflite\", \"wb\") as f:\n",
    "    f.write(tflite_model)"
   ]
  }
 ],
 "metadata": {
  "accelerator": "GPU",
  "colab": {
   "gpuType": "T4",
   "provenance": []
  },
  "kernelspec": {
   "display_name": "Python 3 (ipykernel)",
   "language": "python",
   "name": "python3"
  },
  "language_info": {
   "codemirror_mode": {
    "name": "ipython",
    "version": 3
   },
   "file_extension": ".py",
   "mimetype": "text/x-python",
   "name": "python",
   "nbconvert_exporter": "python",
   "pygments_lexer": "ipython3",
   "version": "3.8.18"
  }
 },
 "nbformat": 4,
 "nbformat_minor": 4
}
